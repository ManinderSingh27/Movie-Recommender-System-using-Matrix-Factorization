{
  "cells": [
    {
      "cell_type": "code",
      "execution_count": 13,
      "metadata": {
        "id": "5m7OtalI3rGg"
      },
      "outputs": [],
      "source": [
        "import numpy as np\n",
        "import pandas as pd\n",
        "import matplotlib.pyplot as plt\n",
        "import seaborn as sns"
      ]
    },
    {
      "cell_type": "code",
      "execution_count": 14,
      "metadata": {
        "id": "GRMkzElN3rGp"
      },
      "outputs": [],
      "source": [
        "def top(vector, maximum, k):\n",
        "    c = maximum * np.argsort(scores)[-k:] + (1 - maximum) * np.argsort(scores)[:k]\n",
        "    d = []\n",
        "    for i in np.arange(len(c)):\n",
        "        d.append(vector[c[i]])\n",
        "    return d"
      ]
    },
    {
      "cell_type": "code",
      "execution_count": 15,
      "metadata": {
        "id": "hRt-M0OB3rGr"
      },
      "outputs": [],
      "source": [
        "def rearrange(items, ratings):\n",
        "    attribute, scores = [], []\n",
        "    ranking = np.argsort(ratings)\n",
        "\n",
        "    for k in np.arange(len(ranking)):\n",
        "        attribute.append(items[ranking[k]])\n",
        "        scores.append(ratings[ranking[k]])\n",
        "\n",
        "    return attribute, scores"
      ]
    },
    {
      "cell_type": "code",
      "execution_count": 16,
      "metadata": {
        "id": "j88VpnQW3rGs"
      },
      "outputs": [],
      "source": [
        "def rank_top_k(names, ratings):\n",
        "    \"\"\"\n",
        "    Example:\n",
        "    a, b = np.array(['a', 'b', 'c']), np.array([6, 1, 3])\n",
        "    a, b = rearrange(a, b)\n",
        "    >>> a\n",
        "    np.array('b', 'c', 'a')\n",
        "    >>> b\n",
        "    np.array([1, 3, 6])\n",
        "    \"\"\"\n",
        "    ranked_ids = np.argsort(ratings)\n",
        "    return names[ranked_ids], ratings[ranked_ids]"
      ]
    },
    {
      "cell_type": "code",
      "execution_count": 17,
      "metadata": {
        "id": "LrqsdRpj3rGv"
      },
      "outputs": [],
      "source": [
        "def convert(data, nb_users, nb_movies):\n",
        "    new_data = []\n",
        "    for id_users in range(1, nb_users + 1):\n",
        "        id_movies = data[:,1][data[:,0] == id_users]\n",
        "        id_ratings = data[:,2][data[:,0] == id_users]\n",
        "        ratings = np.zeros(nb_movies)\n",
        "        ratings[id_movies - 1] = id_ratings\n",
        "        new_data.append(list(ratings))\n",
        "    return new_data"
      ]
    },
    {
      "cell_type": "code",
      "execution_count": 18,
      "metadata": {
        "id": "qpvEK24J3rGw"
      },
      "outputs": [],
      "source": [
        "def inner_concatenation(a, b):\n",
        "    c = []\n",
        "    for k in np.arange(len(a)):\n",
        "        c.append(a[k]+b[k])\n",
        "    return c"
      ]
    },
    {
      "cell_type": "code",
      "execution_count": 19,
      "metadata": {
        "id": "euykmUWL3rGx"
      },
      "outputs": [],
      "source": [
        "def transform(user_sex, user_age, user_occupation):\n",
        "\n",
        "    argument = users_occupation_name.tolist().index(user_occupation)\n",
        "    empty = np.zeros(len(users_occupation_name))\n",
        "    empty[argument] = 1\n",
        "\n",
        "    if user_sex == 'Male':\n",
        "        user_sex = 0\n",
        "    else:\n",
        "        user_sex = 1\n",
        "\n",
        "    return np.concatenate(([user_sex], [user_age], empty.T)).T.tolist()"
      ]
    },
    {
      "cell_type": "code",
      "execution_count": 20,
      "metadata": {
        "id": "hXC14Frt3rGx"
      },
      "outputs": [],
      "source": [
        "def descriptive(variable):\n",
        "\n",
        "    if variable.describe().dtype == 'float64':\n",
        "        stats = pd.DataFrame(np.matrix([np.round(np.mean(variable), 2), np.round(np.std(variable), 2), np.min(variable), np.percentile(variable, 25),\n",
        "        np.round(np.median(np.array(variable)), 2), np.percentile(variable, 75), np.max(variable)]))\n",
        "        stats.columns = np.array(['Mean', 'Std', 'Min', '1 qrt', 'Med', '3 qrt', 'Max'])\n",
        "    else:\n",
        "\n",
        "        stats = pd.DataFrame(np.matrix((variable.describe().freq / len(variable) * 100)))\n",
        "        stats.columns = np.array(['Proportion'])\n",
        "    return stats"
      ]
    },
    {
      "cell_type": "code",
      "execution_count": 21,
      "metadata": {
        "id": "UGtso0bl3rGy"
      },
      "outputs": [],
      "source": [
        "def barplot(attribute, scores, xlabel, ylabel, title, rotation):\n",
        "\n",
        "    label = np.array(attribute)[np.array(scores) != 0]\n",
        "    scores = np.array(scores)[np.array(scores) != 0]\n",
        "\n",
        "    sns.set(rc={'figure.figsize':(6,4)})\n",
        "    sns.set(font_scale = 2)\n",
        "\n",
        "    plt.bar(label, scores)\n",
        "    plt.xlabel(xlabel, fontsize=10)\n",
        "    plt.ylabel(ylabel, fontsize=10)\n",
        "    plt.xticks(label, label, fontsize=10, rotation=rotation)\n",
        "    plt.title(title)\n",
        "\n",
        "    plt.show()"
      ]
    },
    {
      "cell_type": "code",
      "execution_count": 22,
      "metadata": {
        "id": "XTByYlqk3rG2"
      },
      "outputs": [],
      "source": [
        "def freq_analysis(names, frequency, recommendations):\n",
        "\n",
        "    freq = []\n",
        "    for k in np.arange(len(recommendations)):\n",
        "        movie_id = names.tolist().index(recommendations[k])\n",
        "        freq.append(frequency[movie_id])\n",
        "\n",
        "    return np.array(freq)"
      ]
    },
    {
      "cell_type": "code",
      "execution_count": 22,
      "metadata": {
        "id": "ONP4mxNJ3rG2"
      },
      "outputs": [],
      "source": [
        ""
      ]
    }
  ],
  "metadata": {
    "kernelspec": {
      "display_name": "Python 3",
      "language": "python",
      "name": "python3"
    },
    "language_info": {
      "codemirror_mode": {
        "name": "ipython",
        "version": 3
      },
      "file_extension": ".py",
      "mimetype": "text/x-python",
      "name": "python",
      "nbconvert_exporter": "python",
      "pygments_lexer": "ipython3",
      "version": "3.8.3"
    },
    "colab": {
      "name": "utilities.ipynb",
      "provenance": []
    }
  },
  "nbformat": 4,
  "nbformat_minor": 0
}